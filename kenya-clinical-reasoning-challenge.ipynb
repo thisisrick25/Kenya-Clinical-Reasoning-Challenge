{
 "cells": [
  {
   "cell_type": "code",
   "execution_count": 1,
   "id": "9336ce93",
   "metadata": {
    "execution": {
     "iopub.execute_input": "2025-06-09T09:47:10.560276Z",
     "iopub.status.busy": "2025-06-09T09:47:10.559984Z",
     "iopub.status.idle": "2025-06-09T09:47:34.737021Z",
     "shell.execute_reply": "2025-06-09T09:47:34.731051Z"
    },
    "papermill": {
     "duration": 24.187073,
     "end_time": "2025-06-09T09:47:34.740280",
     "exception": false,
     "start_time": "2025-06-09T09:47:10.553207",
     "status": "completed"
    },
    "tags": []
   },
   "outputs": [
    {
     "name": "stdout",
     "output_type": "stream",
     "text": [
      "\u001b[33mWARNING: Running pip as the 'root' user can result in broken permissions and conflicting behaviour with the system package manager. It is recommended to use a virtual environment instead: https://pip.pypa.io/warnings/venv\u001b[0m\u001b[33m\r\n",
      "\u001b[0m"
     ]
    },
    {
     "name": "stdout",
     "output_type": "stream",
     "text": [
      "\r\n",
      "\u001b[1m[\u001b[0m\u001b[34;49mnotice\u001b[0m\u001b[1;39;49m]\u001b[0m\u001b[39;49m A new release of pip is available: \u001b[0m\u001b[31;49m23.0.1\u001b[0m\u001b[39;49m -> \u001b[0m\u001b[32;49m25.1.1\u001b[0m\r\n",
      "\u001b[1m[\u001b[0m\u001b[34;49mnotice\u001b[0m\u001b[1;39;49m]\u001b[0m\u001b[39;49m To update, run: \u001b[0m\u001b[32;49mpip install --upgrade pip\u001b[0m\r\n"
     ]
    },
    {
     "name": "stderr",
     "output_type": "stream",
     "text": [
      "/usr/local/lib/python3.10/site-packages/tqdm/auto.py:21: TqdmWarning: IProgress not found. Please update jupyter and ipywidgets. See https://ipywidgets.readthedocs.io/en/stable/user_install.html\n",
      "  from .autonotebook import tqdm as notebook_tqdm\n"
     ]
    },
    {
     "name": "stdout",
     "output_type": "stream",
     "text": [
      "Google API key loaded successfully.\n"
     ]
    },
    {
     "name": "stdout",
     "output_type": "stream",
     "text": [
      "Train data shape: (400, 12)\n",
      "Test data shape: (100, 7)\n"
     ]
    }
   ],
   "source": [
    "# ===============================================================\n",
    "#  KAGGLE SETUP & IMPORTS\n",
    "# ===============================================================\n",
    "!pip install -q google-generativeai\n",
    "\n",
    "import pandas as pd\n",
    "import os\n",
    "import time\n",
    "from kaggle_secrets import UserSecretsClient # To get our API key securely\n",
    "\n",
    "import google.generativeai as genai\n",
    "# Import the specific types for safety settings\n",
    "from google.generativeai.types import HarmCategory, HarmBlockThreshold\n",
    "\n",
    "# For our dynamic few-shot selection\n",
    "from sklearn.feature_extraction.text import TfidfVectorizer\n",
    "from sklearn.metrics.pairwise import cosine_similarity\n",
    "import numpy as np\n",
    "\n",
    "# --- Load API Key from Kaggle Secrets ---\n",
    "try:\n",
    "    user_secrets = UserSecretsClient()\n",
    "    # Get the Google API key from the new secret\n",
    "    secret_value = user_secrets.get_secret(\"GOOGLE_API_KEY\") \n",
    "    genai.configure(api_key=secret_value)\n",
    "    print(\"Google API key loaded successfully.\")\n",
    "    \n",
    "    # Define robust safety settings\n",
    "    safety_settings_config = [\n",
    "        {\n",
    "            \"category\": HarmCategory.HARM_CATEGORY_DANGEROUS_CONTENT,\n",
    "            \"threshold\": HarmBlockThreshold.BLOCK_NONE,\n",
    "        },\n",
    "        {\n",
    "            \"category\": HarmCategory.HARM_CATEGORY_HARASSMENT,\n",
    "            \"threshold\": HarmBlockThreshold.BLOCK_NONE,\n",
    "        },\n",
    "        {\n",
    "            \"category\": HarmCategory.HARM_CATEGORY_HATE_SPEECH,\n",
    "            \"threshold\": HarmBlockThreshold.BLOCK_NONE,\n",
    "        },\n",
    "        {\n",
    "            \"category\": HarmCategory.HARM_CATEGORY_SEXUALLY_EXPLICIT,\n",
    "            \"threshold\": HarmBlockThreshold.BLOCK_NONE,\n",
    "        },\n",
    "    ]\n",
    "    \n",
    "    # Instantiate the Gemini model\n",
    "    gemini_model = genai.GenerativeModel('gemini-2.5-flash-preview-05-20')\n",
    "except Exception as e:\n",
    "    print(\"Could not load Google API key or configure model. Make sure it's stored as a secret named 'GOOGLE_API_KEY'.\")\n",
    "    print(f\"Error: {e}\")\n",
    "    # You might want to stop execution if the key isn't found\n",
    "    # For a hackathon, we'll let it continue and fail on the API call\n",
    "    gemini_model = None\n",
    "\n",
    "\n",
    "# --- Load Data ---\n",
    "# Adjust 'competition-folder-name' to the actual folder name in /kaggle/input/\n",
    "DATA_PATH = \"/kaggle/input/kenya-clinical-reasoning-challenge20250407/\"\n",
    "train_df = pd.read_csv(DATA_PATH + 'train.csv')\n",
    "test_df = pd.read_csv(DATA_PATH + 'test.csv')\n",
    "sample_submission_df = pd.read_csv(DATA_PATH + 'SampleSubmission.csv')\n",
    "\n",
    "print(f\"Train data shape: {train_df.shape}\")\n",
    "print(f\"Test data shape: {test_df.shape}\")\n"
   ]
  },
  {
   "cell_type": "code",
   "execution_count": 2,
   "id": "3d276935",
   "metadata": {
    "execution": {
     "iopub.execute_input": "2025-06-09T09:47:34.748445Z",
     "iopub.status.busy": "2025-06-09T09:47:34.748162Z",
     "iopub.status.idle": "2025-06-09T09:47:34.802093Z",
     "shell.execute_reply": "2025-06-09T09:47:34.795121Z"
    },
    "papermill": {
     "duration": 0.062087,
     "end_time": "2025-06-09T09:47:34.804714",
     "exception": false,
     "start_time": "2025-06-09T09:47:34.742627",
     "status": "completed"
    },
    "tags": []
   },
   "outputs": [],
   "source": [
    "# ===============================================================\n",
    "#  DYNAMIC FEW-SHOT SELECTOR (Our \"Secret Sauce\")\n",
    "# ===============================================================\n",
    "# We will use TF-IDF to find the most similar prompts in the training data\n",
    "# to use as examples in our LLM prompts. This is much better than static examples.\n",
    "\n",
    "# Pre-process the training data for searching\n",
    "vectorizer = TfidfVectorizer(stop_words='english', max_features=5000)\n",
    "train_prompt_vectors = vectorizer.fit_transform(train_df['Prompt'])\n",
    "\n",
    "def get_most_similar_examples(query_prompt: str, top_n: int = 5) -> pd.DataFrame:\n",
    "    \"\"\"Finds the top_n most similar training examples to a given query prompt.\"\"\"\n",
    "    query_vector = vectorizer.transform([query_prompt])\n",
    "    similarities = cosine_similarity(query_vector, train_prompt_vectors)\n",
    "    # Get the indices of the top_n most similar prompts\n",
    "    top_indices = np.argsort(similarities[0])[-top_n:][::-1]\n",
    "    return train_df.iloc[top_indices]\n"
   ]
  },
  {
   "cell_type": "code",
   "execution_count": 3,
   "id": "c7c2e44e",
   "metadata": {
    "execution": {
     "iopub.execute_input": "2025-06-09T09:47:34.812530Z",
     "iopub.status.busy": "2025-06-09T09:47:34.812262Z",
     "iopub.status.idle": "2025-06-09T09:47:34.827522Z",
     "shell.execute_reply": "2025-06-09T09:47:34.820961Z"
    },
    "papermill": {
     "duration": 0.023978,
     "end_time": "2025-06-09T09:47:34.830727",
     "exception": false,
     "start_time": "2025-06-09T09:47:34.806749",
     "status": "completed"
    },
    "tags": []
   },
   "outputs": [],
   "source": [
    "# ===============================================================\n",
    "#  SIMPLIFIED API CALL FUNCTION (Direct Inference)\n",
    "# ===============================================================\n",
    "\n",
    "def create_direct_response_prompt(prompt_text: str) -> str:\n",
    "    \"\"\"Creates a direct few-shot prompt for generating the clinician response.\"\"\"\n",
    "    # We'll use 2 examples, as this prompt is shorter than the old response prompt\n",
    "    examples_df = get_most_similar_examples(prompt_text, top_n=5)\n",
    "    \n",
    "    prompt = \"You are an expert Kenyan clinician providing practical guidance to a colleague. Your response MUST match the persona of the nurse in the prompt and the resources available at their facility. Structure your response with a summary, diagnosis, and a clear management plan. Emulate the style and reasoning from the examples below. Be concise and direct.\\n\\n--- EXAMPLES ---\\n\"\n",
    "    \n",
    "    for _, row in examples_df.iterrows():\n",
    "        # We now show the direct Prompt -> Clinician mapping\n",
    "        prompt += f\"Vignette: \\\"{row['Prompt']}\\\"\\n\"\n",
    "        prompt += f\"Clinician Response: {row['Clinician']}\\n\\n\"\n",
    "        \n",
    "    prompt += \"--- TASK ---\\n\"\n",
    "    prompt += f\"Vignette: \\\"{prompt_text}\\\"\\n\"\n",
    "    prompt += \"Clinician Response:\\n\"\n",
    "    return prompt\n",
    "\n",
    "def generate_direct_response(prompt_text: str) -> str:\n",
    "    \"\"\"Uses a single, direct few-shot prompt to generate the clinician's response.\"\"\"\n",
    "    full_prompt = create_direct_response_prompt(prompt_text)\n",
    "    \n",
    "    try:\n",
    "        generation_config = genai.GenerationConfig(temperature=0.4, max_output_tokens=65536)\n",
    "        response = gemini_model.generate_content(full_prompt, generation_config=generation_config, safety_settings=safety_settings_config)\n",
    "\n",
    "        if response.parts:\n",
    "            return response.text.strip()\n",
    "        else:\n",
    "            finish_reason = response.candidates[0].finish_reason if response.candidates else 'UNKNOWN'\n",
    "            return f\"Error: No text generated. Finish Reason: {finish_reason}\"\n",
    "\n",
    "    except Exception as e:\n",
    "        print(f\"API Error in response generation: {e}\")\n",
    "        try:\n",
    "            print(response.prompt_feedback)\n",
    "        except:\n",
    "            pass\n",
    "        return \"Error: Could not generate response.\""
   ]
  },
  {
   "cell_type": "code",
   "execution_count": 4,
   "id": "3ea5be89",
   "metadata": {
    "execution": {
     "iopub.execute_input": "2025-06-09T09:47:34.838142Z",
     "iopub.status.busy": "2025-06-09T09:47:34.837871Z",
     "iopub.status.idle": "2025-06-09T10:05:21.114097Z",
     "shell.execute_reply": "2025-06-09T10:05:21.110287Z"
    },
    "papermill": {
     "duration": 1066.285513,
     "end_time": "2025-06-09T10:05:21.118305",
     "exception": false,
     "start_time": "2025-06-09T09:47:34.832792",
     "status": "completed"
    },
    "tags": []
   },
   "outputs": [
    {
     "name": "stdout",
     "output_type": "stream",
     "text": [
      "Starting prediction process with robust 'Direct-Inference' strategy...\n",
      "Processing row 1/100: Master_Index = ID_CUAOY\n"
     ]
    },
    {
     "name": "stdout",
     "output_type": "stream",
     "text": [
      "  > Generated Response: 'summary 24 yr old female with sharp right-sided nasal pain worsening o'...\n",
      "--------------------\n",
      "Processing row 2/100: Master_Index = ID_OGSAY\n"
     ]
    },
    {
     "name": "stdout",
     "output_type": "stream",
     "text": [
      "  > Generated Response: 'summary a 3 year old boy with a bean seed deep in the right nostril di'...\n",
      "--------------------\n",
      "Processing row 3/100: Master_Index = ID_TYHSA\n"
     ]
    },
    {
     "name": "stdout",
     "output_type": "stream",
     "text": [
      "  > Generated Response: 'summary 22 year old male presented with progressive lower limb weaknes'...\n",
      "--------------------\n",
      "Processing row 4/100: Master_Index = ID_CZXLD\n"
     ]
    },
    {
     "name": "stdout",
     "output_type": "stream",
     "text": [
      "  > Generated Response: 'summary a 6 year old girl presents with hx of sudden onset twitching f'...\n",
      "--------------------\n",
      "Processing row 5/100: Master_Index = ID_ZJQUQ\n"
     ]
    },
    {
     "name": "stdout",
     "output_type": "stream",
     "text": [
      "  > Generated Response: 'summary a 1 year old boy presented to mch clinic unvaccinated for meas'...\n",
      "--------------------\n",
      "Processing row 6/100: Master_Index = ID_HYSCV\n"
     ]
    },
    {
     "name": "stdout",
     "output_type": "stream",
     "text": [
      "  > Generated Response: 'summary a patient is brought to the ward for a second excision of kelo'...\n",
      "--------------------\n",
      "Processing row 7/100: Master_Index = ID_DXHPF\n"
     ]
    },
    {
     "name": "stdout",
     "output_type": "stream",
     "text": [
      "  > Generated Response: 'summary a 14 year old female presents with right lower limb pain for o'...\n",
      "--------------------\n",
      "Processing row 8/100: Master_Index = ID_GDFDN\n"
     ]
    },
    {
     "name": "stdout",
     "output_type": "stream",
     "text": [
      "  > Generated Response: 'summary a mother with premature rupture of membranes 7cm dilated with '...\n",
      "--------------------\n",
      "Processing row 9/100: Master_Index = ID_UFAFI\n"
     ]
    },
    {
     "name": "stdout",
     "output_type": "stream",
     "text": [
      "  > Generated Response: 'summary 23 year old lady 10 days postpartum brought to mch clinic with'...\n",
      "--------------------\n",
      "Processing row 10/100: Master_Index = ID_KMBGG\n"
     ]
    },
    {
     "name": "stdout",
     "output_type": "stream",
     "text": [
      "  > Generated Response: 'summary a 4 year old boy with gradual abdominal distention for 3 weeks'...\n",
      "--------------------\n",
      "Processing row 11/100: Master_Index = ID_GCHQJ\n"
     ]
    },
    {
     "name": "stdout",
     "output_type": "stream",
     "text": [
      "  > Generated Response: 'summary female patient with altered level of consciousness for one day'...\n",
      "--------------------\n",
      "Processing row 12/100: Master_Index = ID_FBVXH\n"
     ]
    },
    {
     "name": "stdout",
     "output_type": "stream",
     "text": [
      "  > Generated Response: 'summary 8 year old male easy fatigability weight loss drenching night '...\n",
      "--------------------\n",
      "Processing row 13/100: Master_Index = ID_GFQXW\n"
     ]
    },
    {
     "name": "stdout",
     "output_type": "stream",
     "text": [
      "  > Generated Response: 'summary a 10 day postnatal mother presents with painful swelling and f'...\n",
      "--------------------\n",
      "Processing row 14/100: Master_Index = ID_KQFSM\n"
     ]
    },
    {
     "name": "stdout",
     "output_type": "stream",
     "text": [
      "  > Generated Response: 'summary a 20-year-old at 6th anc visit asymptomatic a dual retest for '...\n",
      "--------------------\n",
      "Processing row 15/100: Master_Index = ID_OTEWX\n"
     ]
    },
    {
     "name": "stdout",
     "output_type": "stream",
     "text": [
      "  > Generated Response: 'summary an 85-year-old male patient with a history of recurrent heart '...\n",
      "--------------------\n",
      "Processing row 16/100: Master_Index = ID_KTTZQ\n"
     ]
    },
    {
     "name": "stdout",
     "output_type": "stream",
     "text": [
      "  > Generated Response: 'summary a 30 year old woman with per vaginal bleeding for one month on'...\n",
      "--------------------\n",
      "Processing row 17/100: Master_Index = ID_DFFBJ\n"
     ]
    },
    {
     "name": "stdout",
     "output_type": "stream",
     "text": [
      "  > Generated Response: 'summary 12 year old girl brought to emergency with difficulty in breat'...\n",
      "--------------------\n",
      "Processing row 18/100: Master_Index = ID_ZQLND\n"
     ]
    },
    {
     "name": "stdout",
     "output_type": "stream",
     "text": [
      "  > Generated Response: 'summary a 4th day post-delivery mother presenting with altered mental '...\n",
      "--------------------\n",
      "Processing row 19/100: Master_Index = ID_LXBDD\n"
     ]
    },
    {
     "name": "stdout",
     "output_type": "stream",
     "text": [
      "  > Generated Response: 'summary an 8 year old boy presents to the ed with a visible stick embe'...\n",
      "--------------------\n",
      "Processing row 20/100: Master_Index = ID_PWETS\n"
     ]
    },
    {
     "name": "stdout",
     "output_type": "stream",
     "text": [
      "  > Generated Response: 'summary a 7-week primigravida presents with per vaginal bleeding but n'...\n",
      "--------------------\n",
      "Processing row 21/100: Master_Index = ID_VJVBS\n"
     ]
    },
    {
     "name": "stdout",
     "output_type": "stream",
     "text": [
      "  > Generated Response: 'summary a 6 year old male with 1 month history of abdominal distention'...\n",
      "--------------------\n",
      "Processing row 22/100: Master_Index = ID_OZCVT\n"
     ]
    },
    {
     "name": "stdout",
     "output_type": "stream",
     "text": [
      "  > Generated Response: 'summary 40 year old lady with right lower leg swelling tenderness and '...\n",
      "--------------------\n",
      "Processing row 23/100: Master_Index = ID_HBKUL\n"
     ]
    },
    {
     "name": "stdout",
     "output_type": "stream",
     "text": [
      "  > Generated Response: 'summary a 32 year old male presents with acute onset difficulty in bre'...\n",
      "--------------------\n",
      "Processing row 24/100: Master_Index = ID_ZVYUH\n"
     ]
    },
    {
     "name": "stdout",
     "output_type": "stream",
     "text": [
      "  > Generated Response: 'summary a 46 year old female presented with 3 day history of radio-uln'...\n",
      "--------------------\n",
      "Processing row 25/100: Master_Index = ID_SHIKK\n"
     ]
    },
    {
     "name": "stdout",
     "output_type": "stream",
     "text": [
      "  > Generated Response: 'summary a 60 year old patient with generalized weakness muscle cramps '...\n",
      "--------------------\n",
      "Processing row 26/100: Master_Index = ID_BZMKN\n"
     ]
    },
    {
     "name": "stdout",
     "output_type": "stream",
     "text": [
      "  > Generated Response: 'summary a 27 year old male patient with tracheostomy secondary to atte'...\n",
      "--------------------\n",
      "Processing row 27/100: Master_Index = ID_GWZRC\n"
     ]
    },
    {
     "name": "stdout",
     "output_type": "stream",
     "text": [
      "  > Generated Response: 'summary a 30 year old medical student pricked herself with a needle fr'...\n",
      "--------------------\n",
      "Processing row 28/100: Master_Index = ID_BMKRM\n"
     ]
    },
    {
     "name": "stdout",
     "output_type": "stream",
     "text": [
      "  > Generated Response: 'summary a 49 year old male presents with abdominal swelling and not pa'...\n",
      "--------------------\n",
      "Processing row 29/100: Master_Index = ID_QDMBJ\n"
     ]
    },
    {
     "name": "stdout",
     "output_type": "stream",
     "text": [
      "  > Generated Response: 'summary 40 year old female had attempted jadelle removal only one rod '...\n",
      "--------------------\n",
      "Processing row 30/100: Master_Index = ID_LWSTJ\n"
     ]
    },
    {
     "name": "stdout",
     "output_type": "stream",
     "text": [
      "  > Generated Response: 'summary a 50 year old male presents with 4 days of fever chills fatigu'...\n",
      "--------------------\n",
      "Processing row 31/100: Master_Index = ID_APFPK\n"
     ]
    },
    {
     "name": "stdout",
     "output_type": "stream",
     "text": [
      "  > Generated Response: 'summary 6 year old boy presenting with vomiting and abdominal pain no '...\n",
      "--------------------\n",
      "Processing row 32/100: Master_Index = ID_NTHZR\n"
     ]
    },
    {
     "name": "stdout",
     "output_type": "stream",
     "text": [
      "  > Generated Response: 'summary a 15 year old male patient is brought in with altered mental s'...\n",
      "--------------------\n",
      "Processing row 33/100: Master_Index = ID_UAHZM\n"
     ]
    },
    {
     "name": "stdout",
     "output_type": "stream",
     "text": [
      "  > Generated Response: 'summary a 42 year old para 2 gravida 3 at 43 weeks gestation presentin'...\n",
      "--------------------\n",
      "Processing row 34/100: Master_Index = ID_UHJDN\n"
     ]
    },
    {
     "name": "stdout",
     "output_type": "stream",
     "text": [
      "  > Generated Response: 'summary a 1 year old abandoned baby brought by grandmother with unknow'...\n",
      "--------------------\n",
      "Processing row 35/100: Master_Index = ID_FNAFQ\n"
     ]
    },
    {
     "name": "stdout",
     "output_type": "stream",
     "text": [
      "  > Generated Response: 'summary a patient presents with acute onset vomiting blood and passing'...\n",
      "--------------------\n",
      "Processing row 36/100: Master_Index = ID_WRMNW\n"
     ]
    },
    {
     "name": "stdout",
     "output_type": "stream",
     "text": [
      "  > Generated Response: 'summary 22 year old male presents with traumatically amputated right h'...\n",
      "--------------------\n",
      "Processing row 37/100: Master_Index = ID_OMWIY\n"
     ]
    },
    {
     "name": "stdout",
     "output_type": "stream",
     "text": [
      "  > Generated Response: 'summary a 37 year old primigravida at 40 weeks gestation presenting wi'...\n",
      "--------------------\n",
      "Processing row 38/100: Master_Index = ID_ZNYCZ\n"
     ]
    },
    {
     "name": "stdout",
     "output_type": "stream",
     "text": [
      "  > Generated Response: 'summary a known hypertensive patient presents with a bp of 180 100 mmh'...\n",
      "--------------------\n",
      "Processing row 39/100: Master_Index = ID_NCNYB\n"
     ]
    },
    {
     "name": "stdout",
     "output_type": "stream",
     "text": [
      "  > Generated Response: 'summary a 47 year old man presents with a history of being kicked in t'...\n",
      "--------------------\n",
      "Processing row 40/100: Master_Index = ID_WKQEY\n"
     ]
    },
    {
     "name": "stdout",
     "output_type": "stream",
     "text": [
      "  > Generated Response: 'summary a 48 year old man is brought to the emergency department one h'...\n",
      "--------------------\n",
      "Processing row 41/100: Master_Index = ID_VLNLB\n"
     ]
    },
    {
     "name": "stdout",
     "output_type": "stream",
     "text": [
      "  > Generated Response: 'summary a 12 year old boy presents with polyphagia polydipsia polyuria'...\n",
      "--------------------\n",
      "Processing row 42/100: Master_Index = ID_DGSSB\n"
     ]
    },
    {
     "name": "stdout",
     "output_type": "stream",
     "text": [
      "  > Generated Response: 'summary a 6 year old male presents with history of bean inserted in ea'...\n",
      "--------------------\n",
      "Processing row 43/100: Master_Index = ID_JADVZ\n"
     ]
    },
    {
     "name": "stdout",
     "output_type": "stream",
     "text": [
      "  > Generated Response: 'summary a 65 year old male client was brought to the emergency unit wi'...\n",
      "--------------------\n",
      "Processing row 44/100: Master_Index = ID_ILPTC\n"
     ]
    },
    {
     "name": "stdout",
     "output_type": "stream",
     "text": [
      "  > Generated Response: 'summary 24 year old female presenting with severe epigastric pain vomi'...\n",
      "--------------------\n",
      "Processing row 45/100: Master_Index = ID_BGRFD\n"
     ]
    },
    {
     "name": "stdout",
     "output_type": "stream",
     "text": [
      "  > Generated Response: 'summary 60 year old male presenting with history of alopecia (hair los'...\n",
      "--------------------\n",
      "Processing row 46/100: Master_Index = ID_HDKYR\n"
     ]
    },
    {
     "name": "stdout",
     "output_type": "stream",
     "text": [
      "  > Generated Response: 'summary a 1 year old baby boy with adenoids causing nasal obstruction '...\n",
      "--------------------\n",
      "Processing row 47/100: Master_Index = ID_QAHFT\n"
     ]
    },
    {
     "name": "stdout",
     "output_type": "stream",
     "text": [
      "  > Generated Response: 'summary a 30 year old g5p4 at 34 weeks gestation presents for first an'...\n",
      "--------------------\n",
      "Processing row 48/100: Master_Index = ID_PESEJ\n"
     ]
    },
    {
     "name": "stdout",
     "output_type": "stream",
     "text": [
      "  > Generated Response: 'summary 80 year old male semi conscious bedridden for 1 month post spi'...\n",
      "--------------------\n",
      "Processing row 49/100: Master_Index = ID_OFDGY\n"
     ]
    },
    {
     "name": "stdout",
     "output_type": "stream",
     "text": [
      "  > Generated Response: 'summary 5 year old boy with swollen tender right wrist after a fall vi'...\n",
      "--------------------\n",
      "Processing row 50/100: Master_Index = ID_WGNEX\n"
     ]
    },
    {
     "name": "stdout",
     "output_type": "stream",
     "text": [
      "  > Generated Response: 'summary middle aged man presented with chest pain after being stabbed '...\n",
      "--------------------\n",
      "Processing row 51/100: Master_Index = ID_SIPNK\n"
     ]
    },
    {
     "name": "stdout",
     "output_type": "stream",
     "text": [
      "  > Generated Response: 'summary a 60 year old known diabetic with good adherence for 7 years p'...\n",
      "--------------------\n",
      "Processing row 52/100: Master_Index = ID_MXHUP\n"
     ]
    },
    {
     "name": "stdout",
     "output_type": "stream",
     "text": [
      "  > Generated Response: 'summary a 32 year old female presents with nausea general body weaknes'...\n",
      "--------------------\n",
      "Processing row 53/100: Master_Index = ID_KBQBD\n"
     ]
    },
    {
     "name": "stdout",
     "output_type": "stream",
     "text": [
      "  > Generated Response: 'summary 38 year old pregnant woman at 36 weeks gestation admitted with'...\n",
      "--------------------\n",
      "Processing row 54/100: Master_Index = ID_AYZDZ\n"
     ]
    },
    {
     "name": "stdout",
     "output_type": "stream",
     "text": [
      "  > Generated Response: 'summary 44 year old grand multipara in active labour on oxytocin infus'...\n",
      "--------------------\n",
      "Processing row 55/100: Master_Index = ID_GAWOX\n"
     ]
    },
    {
     "name": "stdout",
     "output_type": "stream",
     "text": [
      "  > Generated Response: 'summary a 1 year old female presents with 2 days confusion more than 1'...\n",
      "--------------------\n",
      "Processing row 56/100: Master_Index = ID_DCOHP\n"
     ]
    },
    {
     "name": "stdout",
     "output_type": "stream",
     "text": [
      "  > Generated Response: 'summary a 17-year-old female, HIV positive with an undetectable viral '...\n",
      "--------------------\n",
      "Processing row 57/100: Master_Index = ID_RWISH\n"
     ]
    },
    {
     "name": "stdout",
     "output_type": "stream",
     "text": [
      "  > Generated Response: 'summary patient presents with acute onset talkativeness and violent be'...\n",
      "--------------------\n",
      "Processing row 58/100: Master_Index = ID_CQUKB\n"
     ]
    },
    {
     "name": "stdout",
     "output_type": "stream",
     "text": [
      "  > Generated Response: 'summary 44 year old male brought to A&E with pain and difficulty in br'...\n",
      "--------------------\n",
      "Processing row 59/100: Master_Index = ID_FFWID\n"
     ]
    },
    {
     "name": "stdout",
     "output_type": "stream",
     "text": [
      "  > Generated Response: 'summary a 19 year old girl presents with epigastric pain typically at '...\n",
      "--------------------\n",
      "Processing row 60/100: Master_Index = ID_XQHOA\n"
     ]
    },
    {
     "name": "stdout",
     "output_type": "stream",
     "text": [
      "  > Generated Response: 'summary a nanny was brought in by her employer with abdominal cramping'...\n",
      "--------------------\n",
      "Processing row 61/100: Master_Index = ID_PJSQE\n"
     ]
    },
    {
     "name": "stdout",
     "output_type": "stream",
     "text": [
      "  > Generated Response: 'summary a 55 year old female admitted with a right tibia fibula fractu'...\n",
      "--------------------\n",
      "Processing row 62/100: Master_Index = ID_EFYMF\n"
     ]
    },
    {
     "name": "stdout",
     "output_type": "stream",
     "text": [
      "  > Generated Response: 'summary a 50 year old male presents with loss of consciousness for 3 h'...\n",
      "--------------------\n",
      "Processing row 63/100: Master_Index = ID_QMQHY\n"
     ]
    },
    {
     "name": "stdout",
     "output_type": "stream",
     "text": [
      "  > Generated Response: 'summary 24 year old female admitted with reduced urine output, general'...\n",
      "--------------------\n",
      "Processing row 64/100: Master_Index = ID_QSQZO\n"
     ]
    },
    {
     "name": "stdout",
     "output_type": "stream",
     "text": [
      "  > Generated Response: 'summary a newborn 8 hours old brought in with respiratory distress fou'...\n",
      "--------------------\n",
      "Processing row 65/100: Master_Index = ID_HLPRM\n"
     ]
    },
    {
     "name": "stdout",
     "output_type": "stream",
     "text": [
      "  > Generated Response: 'summary 2 weeks post-delivery, mother presents with an unhealed, foul-'...\n",
      "--------------------\n",
      "Processing row 66/100: Master_Index = ID_WOBZV\n"
     ]
    },
    {
     "name": "stdout",
     "output_type": "stream",
     "text": [
      "  > Generated Response: 'Summary: A 26-year-old primigravida at 38 weeks gestation presents wit'...\n",
      "--------------------\n",
      "Processing row 67/100: Master_Index = ID_QPFCH\n"
     ]
    },
    {
     "name": "stdout",
     "output_type": "stream",
     "text": [
      "  > Generated Response: 'summary a 23 year old male presents with sudden bilateral vision loss '...\n",
      "--------------------\n",
      "Processing row 68/100: Master_Index = ID_CEPRG\n"
     ]
    },
    {
     "name": "stdout",
     "output_type": "stream",
     "text": [
      "  > Generated Response: '**Summary:** A mother two days postpartum is withdrawn and not interes'...\n",
      "--------------------\n",
      "Processing row 69/100: Master_Index = ID_SKCAI\n"
     ]
    },
    {
     "name": "stdout",
     "output_type": "stream",
     "text": [
      "  > Generated Response: 'summary a 60 year old male brought to outpatient clinic with inability'...\n",
      "--------------------\n",
      "Processing row 70/100: Master_Index = ID_JENNS\n"
     ]
    },
    {
     "name": "stdout",
     "output_type": "stream",
     "text": [
      "  > Generated Response: 'summary a 25 year old male presented with abdominal pain inability to '...\n",
      "--------------------\n",
      "Processing row 71/100: Master_Index = ID_QSPEG\n"
     ]
    },
    {
     "name": "stdout",
     "output_type": "stream",
     "text": [
      "  > Generated Response: 'summary 1 year old girl presents with bean inserted in right nostril 2'...\n",
      "--------------------\n",
      "Processing row 72/100: Master_Index = ID_ZTHIV\n"
     ]
    },
    {
     "name": "stdout",
     "output_type": "stream",
     "text": [
      "  > Generated Response: 'summary 27 year old male with mandibular pain and difficulty eating sw'...\n",
      "--------------------\n",
      "Processing row 73/100: Master_Index = ID_HVSDS\n"
     ]
    },
    {
     "name": "stdout",
     "output_type": "stream",
     "text": [
      "  > Generated Response: 'summary a 2 month old baby born at home and unimmunized presents for r'...\n",
      "--------------------\n",
      "Processing row 74/100: Master_Index = ID_BFBYN\n"
     ]
    },
    {
     "name": "stdout",
     "output_type": "stream",
     "text": [
      "  > Generated Response: 'summary a 7 year old boy with cystic fibrosis admitted for respiratory'...\n",
      "--------------------\n",
      "Processing row 75/100: Master_Index = ID_EISIY\n"
     ]
    },
    {
     "name": "stdout",
     "output_type": "stream",
     "text": [
      "  > Generated Response: 'summary an 18 y o female presented with a history of low moods reduced'...\n",
      "--------------------\n",
      "Processing row 76/100: Master_Index = ID_GCTMK\n"
     ]
    },
    {
     "name": "stdout",
     "output_type": "stream",
     "text": [
      "  > Generated Response: 'summary a 39 year old male presents with cracked lips and eroded surro'...\n",
      "--------------------\n",
      "Processing row 77/100: Master_Index = ID_NIVMV\n"
     ]
    },
    {
     "name": "stdout",
     "output_type": "stream",
     "text": [
      "  > Generated Response: 'summary a 35 year old mother in active labour suddenly developed diffi'...\n",
      "--------------------\n",
      "Processing row 78/100: Master_Index = ID_WZHQK\n"
     ]
    },
    {
     "name": "stdout",
     "output_type": "stream",
     "text": [
      "  > Generated Response: 'summary a 23 year old para 1 0 gravida 2 at 34 weeks gestation present'...\n",
      "--------------------\n",
      "Processing row 79/100: Master_Index = ID_ZHSMO\n"
     ]
    },
    {
     "name": "stdout",
     "output_type": "stream",
     "text": [
      "  > Generated Response: 'summary 4-day old baby brought with irritability, jaundice, sunken eye'...\n",
      "--------------------\n",
      "Processing row 80/100: Master_Index = ID_RKTZL\n"
     ]
    },
    {
     "name": "stdout",
     "output_type": "stream",
     "text": [
      "  > Generated Response: 'summary a 2 week old male neonate presents with hotness of body and re'...\n",
      "--------------------\n",
      "Processing row 81/100: Master_Index = ID_PGEOO\n"
     ]
    },
    {
     "name": "stdout",
     "output_type": "stream",
     "text": [
      "  > Generated Response: 'summary a 60 year old male known case of diabetes presents with a sept'...\n",
      "--------------------\n",
      "Processing row 82/100: Master_Index = ID_VTRFF\n"
     ]
    },
    {
     "name": "stdout",
     "output_type": "stream",
     "text": [
      "  > Generated Response: 'summary 25 year old male with severe dysuria and purulent urethral dis'...\n",
      "--------------------\n",
      "Processing row 83/100: Master_Index = ID_CWEIL\n"
     ]
    },
    {
     "name": "stdout",
     "output_type": "stream",
     "text": [
      "  > Generated Response: 'summary 8 month old child brought to CWC with sudden onset of inabilit'...\n",
      "--------------------\n",
      "Processing row 84/100: Master_Index = ID_WLSXB\n"
     ]
    },
    {
     "name": "stdout",
     "output_type": "stream",
     "text": [
      "  > Generated Response: 'summary an 18yr old girl presents with difficulty in breathing restles'...\n",
      "--------------------\n",
      "Processing row 85/100: Master_Index = ID_VOVAB\n"
     ]
    },
    {
     "name": "stdout",
     "output_type": "stream",
     "text": [
      "  > Generated Response: '**Summary:**\\n42 year old male presents with body swelling, anuria, poo'...\n",
      "--------------------\n",
      "Processing row 86/100: Master_Index = ID_XTMGG\n"
     ]
    },
    {
     "name": "stdout",
     "output_type": "stream",
     "text": [
      "  > Generated Response: 'summary 1-year-old child presenting with inability to hold neck (head '...\n",
      "--------------------\n",
      "Processing row 87/100: Master_Index = ID_ZHZRH\n"
     ]
    },
    {
     "name": "stdout",
     "output_type": "stream",
     "text": [
      "  > Generated Response: 'summary 10 year old boy with 3 day history of high fever fatigue muscl'...\n",
      "--------------------\n",
      "Processing row 88/100: Master_Index = ID_MVXJK\n"
     ]
    },
    {
     "name": "stdout",
     "output_type": "stream",
     "text": [
      "  > Generated Response: 'summary 56 year old male known hypertensive non-compliant with medicat'...\n",
      "--------------------\n",
      "Processing row 89/100: Master_Index = ID_OPCIZ\n"
     ]
    },
    {
     "name": "stdout",
     "output_type": "stream",
     "text": [
      "  > Generated Response: 'summary 5 year old boy ingested hydrogen peroxide 2 hours ago presenti'...\n",
      "--------------------\n",
      "Processing row 90/100: Master_Index = ID_LACGV\n"
     ]
    },
    {
     "name": "stdout",
     "output_type": "stream",
     "text": [
      "  > Generated Response: 'summary a 55 year old female presents with one week history of frequen'...\n",
      "--------------------\n",
      "Processing row 91/100: Master_Index = ID_SCOBO\n"
     ]
    },
    {
     "name": "stdout",
     "output_type": "stream",
     "text": [
      "  > Generated Response: 'summary 30 year old female presenting with joint pain in wrists and an'...\n",
      "--------------------\n",
      "Processing row 92/100: Master_Index = ID_WQREZ\n"
     ]
    },
    {
     "name": "stdout",
     "output_type": "stream",
     "text": [
      "  > Generated Response: 'summary an 8 year old female brought to emergency department with seve'...\n",
      "--------------------\n",
      "Processing row 93/100: Master_Index = ID_KYWMF\n"
     ]
    },
    {
     "name": "stdout",
     "output_type": "stream",
     "text": [
      "  > Generated Response: 'summary a 35 year old male presents with a deep cut wound on the leg f'...\n",
      "--------------------\n",
      "Processing row 94/100: Master_Index = ID_MURHB\n"
     ]
    },
    {
     "name": "stdout",
     "output_type": "stream",
     "text": [
      "  > Generated Response: 'summary a 17 year old girl was brought to the facility unresponsive af'...\n",
      "--------------------\n",
      "Processing row 95/100: Master_Index = ID_MLUOW\n"
     ]
    },
    {
     "name": "stdout",
     "output_type": "stream",
     "text": [
      "  > Generated Response: 'summary a 5 month old infant is brought to the emergency department le'...\n",
      "--------------------\n",
      "Processing row 96/100: Master_Index = ID_AYCAI\n"
     ]
    },
    {
     "name": "stdout",
     "output_type": "stream",
     "text": [
      "  > Generated Response: 'summary a 6 year old child with a painful, swollen, protruded, injecte'...\n",
      "--------------------\n",
      "Processing row 97/100: Master_Index = ID_CLEYN\n"
     ]
    },
    {
     "name": "stdout",
     "output_type": "stream",
     "text": [
      "  > Generated Response: 'summary a 49 year old female with known hypertension presents with pal'...\n",
      "--------------------\n",
      "Processing row 98/100: Master_Index = ID_BRIIW\n"
     ]
    },
    {
     "name": "stdout",
     "output_type": "stream",
     "text": [
      "  > Generated Response: 'summary 35 year old male with 1 year infertility reduced libido and oc'...\n",
      "--------------------\n",
      "Processing row 99/100: Master_Index = ID_SNZBL\n"
     ]
    },
    {
     "name": "stdout",
     "output_type": "stream",
     "text": [
      "  > Generated Response: 'summary 48 year old post thyroidectomy patient with dizziness loss of '...\n",
      "--------------------\n",
      "Processing row 100/100: Master_Index = ID_KXLGG\n"
     ]
    },
    {
     "name": "stdout",
     "output_type": "stream",
     "text": [
      "  > Generated Response: 'summary a 58 year old patient presents with fever and chills and gener'...\n",
      "--------------------\n",
      "Prediction process finished.\n"
     ]
    },
    {
     "name": "stdout",
     "output_type": "stream",
     "text": [
      "Submission file 'submission.csv' has been created successfully!\n"
     ]
    },
    {
     "name": "stdout",
     "output_type": "stream",
     "text": [
      "  Master_Index                                          Clinician\n",
      "0     ID_CUAOY  summary 24 yr old female with sharp right-side...\n",
      "1     ID_OGSAY  summary a 3 year old boy with a bean seed deep...\n",
      "2     ID_TYHSA  summary 22 year old male presented with progre...\n",
      "3     ID_CZXLD  summary a 6 year old girl presents with hx of ...\n",
      "4     ID_ZJQUQ  summary a 1 year old boy presented to mch clin...\n"
     ]
    }
   ],
   "source": [
    "# ===============================================================\n",
    "#  MAIN EXECUTION SCRIPT\n",
    "# ===============================================================\n",
    "if gemini_model:\n",
    "    results = []\n",
    "    print(\"Starting prediction process with robust 'Direct-Inference' strategy...\")\n",
    "    \n",
    "    RPM = 10\n",
    "    requests_this_minute = 0\n",
    "    start_time = time.time()\n",
    "    \n",
    "    for row in test_df.itertuples():\n",
    "        print(f\"Processing row {row.Index + 1}/{len(test_df)}: Master_Index = {row.Master_Index}\")\n",
    "        \n",
    "        # Rate Limiting Check (now we can do more rows per minute!)\n",
    "        if requests_this_minute >= RPM:\n",
    "            elapsed_time = time.time() - start_time\n",
    "            if elapsed_time < 60:\n",
    "                sleep_time = 60.1 - elapsed_time\n",
    "                print(f\"  > Rate limit reached. Sleeping for {sleep_time:.2f} seconds...\")\n",
    "                time.sleep(sleep_time)\n",
    "            start_time = time.time()\n",
    "            requests_this_minute = 0\n",
    "\n",
    "        prompt_text = row.Prompt\n",
    "        \n",
    "        # ONLY ONE API CALL PER ROW\n",
    "        final_response = generate_direct_response(prompt_text)\n",
    "        requests_this_minute += 1 # Increment counter\n",
    "        \n",
    "        print(f\"  > Generated Response: {repr(final_response[:70])}...\")\n",
    "        \n",
    "        results.append({'Master_Index': row.Master_Index, 'Clinician': final_response})\n",
    "        print(\"-\" * 20)\n",
    "            \n",
    "    print(\"Prediction process finished.\")\n",
    "    \n",
    "    submission_df = pd.DataFrame(results)\n",
    "    submission_df = submission_df[sample_submission_df.columns]\n",
    "    submission_df.to_csv('submission.csv', index=False)\n",
    "    \n",
    "    print(\"Submission file 'submission.csv' has been created successfully!\")\n",
    "    print(submission_df.head())\n",
    "else:\n",
    "    print(\"Execution halted because Gemini model could not be initialized.\")\n"
   ]
  }
 ],
 "metadata": {
  "kaggle": {
   "accelerator": "tpu1vmV38",
   "dataSources": [
    {
     "datasetId": 7618552,
     "sourceId": 12101512,
     "sourceType": "datasetVersion"
    }
   ],
   "isGpuEnabled": false,
   "isInternetEnabled": true,
   "language": "python",
   "sourceType": "notebook"
  },
  "kernelspec": {
   "display_name": "Python 3",
   "language": "python",
   "name": "python3"
  },
  "language_info": {
   "codemirror_mode": {
    "name": "ipython",
    "version": 3
   },
   "file_extension": ".py",
   "mimetype": "text/x-python",
   "name": "python",
   "nbconvert_exporter": "python",
   "pygments_lexer": "ipython3",
   "version": "3.10.17"
  },
  "papermill": {
   "default_parameters": {},
   "duration": 1097.157703,
   "end_time": "2025-06-09T10:05:24.587309",
   "environment_variables": {},
   "exception": null,
   "input_path": "__notebook__.ipynb",
   "output_path": "__notebook__.ipynb",
   "parameters": {},
   "start_time": "2025-06-09T09:47:07.429606",
   "version": "2.6.0"
  }
 },
 "nbformat": 4,
 "nbformat_minor": 5
}
