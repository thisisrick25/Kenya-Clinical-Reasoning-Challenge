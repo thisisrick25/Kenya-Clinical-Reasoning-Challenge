{
 "cells": [
  {
   "cell_type": "code",
   "execution_count": 1,
   "id": "82c95550",
   "metadata": {
    "execution": {
     "iopub.execute_input": "2025-06-09T19:12:24.902718Z",
     "iopub.status.busy": "2025-06-09T19:12:24.902485Z",
     "iopub.status.idle": "2025-06-09T19:14:00.297213Z",
     "shell.execute_reply": "2025-06-09T19:14:00.291342Z"
    },
    "papermill": {
     "duration": 95.403481,
     "end_time": "2025-06-09T19:14:00.300331",
     "exception": false,
     "start_time": "2025-06-09T19:12:24.896850",
     "status": "completed"
    },
    "tags": []
   },
   "outputs": [
    {
     "name": "stdout",
     "output_type": "stream",
     "text": [
      "\u001b[33mWARNING: Running pip as the 'root' user can result in broken permissions and conflicting behaviour with the system package manager. It is recommended to use a virtual environment instead: https://pip.pypa.io/warnings/venv\u001b[0m\u001b[33m\r\n",
      "\u001b[0m"
     ]
    },
    {
     "name": "stdout",
     "output_type": "stream",
     "text": [
      "\r\n",
      "\u001b[1m[\u001b[0m\u001b[34;49mnotice\u001b[0m\u001b[1;39;49m]\u001b[0m\u001b[39;49m A new release of pip is available: \u001b[0m\u001b[31;49m23.0.1\u001b[0m\u001b[39;49m -> \u001b[0m\u001b[32;49m25.1.1\u001b[0m\r\n",
      "\u001b[1m[\u001b[0m\u001b[34;49mnotice\u001b[0m\u001b[1;39;49m]\u001b[0m\u001b[39;49m To update, run: \u001b[0m\u001b[32;49mpip install --upgrade pip\u001b[0m\r\n"
     ]
    },
    {
     "name": "stdout",
     "output_type": "stream",
     "text": [
      "\u001b[33mWARNING: Running pip as the 'root' user can result in broken permissions and conflicting behaviour with the system package manager. It is recommended to use a virtual environment instead: https://pip.pypa.io/warnings/venv\u001b[0m\u001b[33m\r\n",
      "\u001b[0m\r\n",
      "\u001b[1m[\u001b[0m\u001b[34;49mnotice\u001b[0m\u001b[1;39;49m]\u001b[0m\u001b[39;49m A new release of pip is available: \u001b[0m\u001b[31;49m23.0.1\u001b[0m\u001b[39;49m -> \u001b[0m\u001b[32;49m25.1.1\u001b[0m\r\n",
      "\u001b[1m[\u001b[0m\u001b[34;49mnotice\u001b[0m\u001b[1;39;49m]\u001b[0m\u001b[39;49m To update, run: \u001b[0m\u001b[32;49mpip install --upgrade pip\u001b[0m\r\n"
     ]
    },
    {
     "name": "stderr",
     "output_type": "stream",
     "text": [
      "/usr/local/lib/python3.10/site-packages/tqdm/auto.py:21: TqdmWarning: IProgress not found. Please update jupyter and ipywidgets. See https://ipywidgets.readthedocs.io/en/stable/user_install.html\n",
      "  from .autonotebook import tqdm as notebook_tqdm\n"
     ]
    },
    {
     "name": "stderr",
     "output_type": "stream",
     "text": [
      "/usr/local/lib/python3.10/site-packages/torch_xla/__init__.py:251: UserWarning: `tensorflow` can conflict with `torch-xla`. Prefer `tensorflow-cpu` when using PyTorch/XLA. To silence this warning, `pip uninstall -y tensorflow && pip install tensorflow-cpu`. If you are in a notebook environment such as Colab or Kaggle, restart your notebook runtime afterwards.\n",
      "  warnings.warn(\n"
     ]
    },
    {
     "name": "stderr",
     "output_type": "stream",
     "text": [
      "WARNING: Logging before InitGoogle() is written to STDERR\n",
      "E0000 00:00:1749496423.981113      74 common_lib.cc:612] Could not set metric server port: INVALID_ARGUMENT: Could not find SliceBuilder port 8471 in any of the 0 ports provided in `tpu_process_addresses`=\"local\"\n",
      "=== Source Location Trace: === \n",
      "learning/45eac/tfrc/runtime/common_lib.cc:230\n"
     ]
    },
    {
     "name": "stdout",
     "output_type": "stream",
     "text": [
      "Google API key loaded successfully.\n"
     ]
    },
    {
     "name": "stdout",
     "output_type": "stream",
     "text": [
      "Train data shape: (400, 12)\n",
      "Test data shape: (100, 7)\n"
     ]
    }
   ],
   "source": [
    "# ===============================================================\n",
    "#  KAGGLE SETUP & IMPORTS\n",
    "# ===============================================================\n",
    "!pip install -q google-generativeai\n",
    "!pip install -q sentence-transformers\n",
    "\n",
    "import pandas as pd\n",
    "import os\n",
    "import time\n",
    "import json\n",
    "import torch\n",
    "from kaggle_secrets import UserSecretsClient # To get our API key securely\n",
    "\n",
    "import google.generativeai as genai\n",
    "# Import the specific types for safety settings\n",
    "from google.generativeai.types import HarmCategory, HarmBlockThreshold\n",
    "\n",
    "# Imports for semantic search\n",
    "from sentence_transformers import SentenceTransformer, util\n",
    "import numpy as np\n",
    "\n",
    "# --- Load API Key from Kaggle Secrets ---\n",
    "try:\n",
    "    user_secrets = UserSecretsClient()\n",
    "    # Get the Google API key from the new secret\n",
    "    secret_value = user_secrets.get_secret(\"GOOGLE_API_KEY\") \n",
    "    genai.configure(api_key=secret_value)\n",
    "    print(\"Google API key loaded successfully.\")\n",
    "    \n",
    "    # Define robust safety settings\n",
    "    safety_settings_config = [\n",
    "        {\n",
    "            \"category\": HarmCategory.HARM_CATEGORY_DANGEROUS_CONTENT,\n",
    "            \"threshold\": HarmBlockThreshold.BLOCK_NONE,\n",
    "        },\n",
    "        {\n",
    "            \"category\": HarmCategory.HARM_CATEGORY_HARASSMENT,\n",
    "            \"threshold\": HarmBlockThreshold.BLOCK_NONE,\n",
    "        },\n",
    "        {\n",
    "            \"category\": HarmCategory.HARM_CATEGORY_HATE_SPEECH,\n",
    "            \"threshold\": HarmBlockThreshold.BLOCK_NONE,\n",
    "        },\n",
    "        {\n",
    "            \"category\": HarmCategory.HARM_CATEGORY_SEXUALLY_EXPLICIT,\n",
    "            \"threshold\": HarmBlockThreshold.BLOCK_NONE,\n",
    "        },\n",
    "    ]\n",
    "    \n",
    "    # Instantiate the Gemini model\n",
    "    gemini_model = genai.GenerativeModel('gemini-2.5-flash-preview-05-20')\n",
    "except Exception as e:\n",
    "    print(\"Could not load Google API key or configure model. Make sure it's stored as a secret named 'GOOGLE_API_KEY'.\")\n",
    "    print(f\"Error: {e}\")\n",
    "    # You might want to stop execution if the key isn't found\n",
    "    # For a hackathon, we'll let it continue and fail on the API call\n",
    "    gemini_model = None\n",
    "    safety_settings_config = []\n",
    "\n",
    "\n",
    "# --- Load Data ---\n",
    "# Adjust 'competition-folder-name' to the actual folder name in /kaggle/input/\n",
    "DATA_PATH = \"/kaggle/input/kenya-clinical-reasoning-challenge20250407/\"\n",
    "train_df = pd.read_csv(DATA_PATH + 'train.csv')\n",
    "test_df = pd.read_csv(DATA_PATH + 'test.csv')\n",
    "sample_submission_df = pd.read_csv(DATA_PATH + 'SampleSubmission.csv')\n",
    "\n",
    "print(f\"Train data shape: {train_df.shape}\")\n",
    "print(f\"Test data shape: {test_df.shape}\")\n"
   ]
  },
  {
   "cell_type": "code",
   "execution_count": 2,
   "id": "536408e2",
   "metadata": {
    "execution": {
     "iopub.execute_input": "2025-06-09T19:14:00.308587Z",
     "iopub.status.busy": "2025-06-09T19:14:00.308361Z",
     "iopub.status.idle": "2025-06-09T19:14:10.167506Z",
     "shell.execute_reply": "2025-06-09T19:14:10.159045Z"
    },
    "papermill": {
     "duration": 9.86762,
     "end_time": "2025-06-09T19:14:10.170502",
     "exception": false,
     "start_time": "2025-06-09T19:14:00.302882",
     "status": "completed"
    },
    "tags": []
   },
   "outputs": [
    {
     "name": "stdout",
     "output_type": "stream",
     "text": [
      "Initializing semantic search engine...\n"
     ]
    },
    {
     "name": "stdout",
     "output_type": "stream",
     "text": [
      "Semantic search engine ready.\n"
     ]
    }
   ],
   "source": [
    "# ===============================================================\n",
    "#  SEMANTIC SEARCH ENGINE INITIALIZATION\n",
    "# ===============================================================\n",
    "print(\"Initializing semantic search engine...\")\n",
    "# Using a lightweight but powerful model perfect for this task\n",
    "embedding_model = SentenceTransformer('all-MiniLM-L6-v2')\n",
    "\n",
    "# Convert all training prompts into semantic vectors (embeddings)\n",
    "# This is done only once.\n",
    "train_embeddings = embedding_model.encode(train_df['Prompt'].tolist(), convert_to_tensor=True)\n",
    "print(\"Semantic search engine ready.\")\n",
    "\n",
    "def get_semantic_best_example(query_prompt: str) -> pd.Series:\n",
    "    \"\"\"Finds the single most semantically similar example from the training set.\"\"\"\n",
    "    query_embedding = embedding_model.encode(query_prompt, convert_to_tensor=True)\n",
    "    \n",
    "    # Calculate cosine similarity between the query and all training examples\n",
    "    cosine_scores = util.cos_sim(query_embedding, train_embeddings)\n",
    "\n",
    "    # Use torch.argmax and .item() to get a pure Python integer\n",
    "    best_match_index = torch.argmax(cosine_scores).item()\n",
    "\n",
    "    \n",
    "    return train_df.iloc[best_match_index]\n"
   ]
  },
  {
   "cell_type": "code",
   "execution_count": 3,
   "id": "2d1a655a",
   "metadata": {
    "execution": {
     "iopub.execute_input": "2025-06-09T19:14:10.178975Z",
     "iopub.status.busy": "2025-06-09T19:14:10.178722Z",
     "iopub.status.idle": "2025-06-09T19:14:10.191439Z",
     "shell.execute_reply": "2025-06-09T19:14:10.188009Z"
    },
    "papermill": {
     "duration": 0.022323,
     "end_time": "2025-06-09T19:14:10.195218",
     "exception": false,
     "start_time": "2025-06-09T19:14:10.172895",
     "status": "completed"
    },
    "tags": []
   },
   "outputs": [],
   "source": [
    "# ===============================================================\n",
    "#  \"RELIABLE SCRIBE\" API CALL FUNCTION\n",
    "# ===============================================================\n",
    "\n",
    "def create_structured_prompt(prompt_text: str) -> str:\n",
    "    \"\"\"Creates a one-shot prompt that instructs the model to output JSON.\"\"\"\n",
    "    example_row = get_semantic_best_example(prompt_text)\n",
    "    \n",
    "    # Create a structured JSON representation of the example's clinician response for the prompt\n",
    "    # This part is tricky, as we need to parse the free text into a JSON structure.\n",
    "    # We'll make a simplified assumption for the hackathon: we create a JSON-like string.\n",
    "    # A more advanced version would use another LLM call to structure the example, but that's too slow.\n",
    "    example_json_output = {\n",
    "        \"summary\": \"Example summary based on clinician text.\",\n",
    "        \"diagnosis\": \"Example diagnosis based on clinician text.\",\n",
    "        \"management_plan\": example_row['Clinician'] # Put the full text here as a fallback\n",
    "    }\n",
    "    \n",
    "    prompt = \"\"\"You are an expert Kenyan clinician. Your task is to provide guidance based on a clinical vignette.\n",
    "Your response MUST be a single, valid JSON object containing three keys: \"summary\", \"diagnosis\", and \"management_plan\".\n",
    "Do not include any text or formatting outside of the JSON object.\n",
    "\n",
    "--- EXAMPLE ---\n",
    "Vignette: \"{example_prompt}\"\n",
    "Clinician Response (JSON):\n",
    "{example_json}\n",
    "\n",
    "--- TASK ---\n",
    "Vignette: \"{task_prompt}\"\n",
    "Clinician Response (JSON):\n",
    "\"\"\".format(\n",
    "        example_prompt=example_row['Prompt'],\n",
    "        example_json=json.dumps(example_json_output, indent=2), # Show a nicely formatted JSON example\n",
    "        task_prompt=prompt_text\n",
    "    )\n",
    "    return prompt\n",
    "\n",
    "def generate_structured_response(prompt_text: str) -> str:\n",
    "    \"\"\"Generates a structured JSON response and formats it into the final string.\"\"\"\n",
    "    full_prompt = create_structured_prompt(prompt_text)\n",
    "    \n",
    "    try:\n",
    "        generation_config = genai.GenerationConfig(temperature=0.4, max_output_tokens=65536)\n",
    "        response = gemini_model.generate_content(full_prompt, generation_config=generation_config, safety_settings=safety_settings_config)\n",
    "\n",
    "        if response.parts:\n",
    "            raw_text = response.text.strip()\n",
    "            # Find the JSON part of the response, in case the model adds extra text like ```json\n",
    "            json_start = raw_text.find('{')\n",
    "            json_end = raw_text.rfind('}') + 1\n",
    "            json_text = raw_text[json_start:json_end]\n",
    "\n",
    "            # Attempt to parse the JSON\n",
    "            data = json.loads(json_text)\n",
    "            \n",
    "            # Format the structured data into the final clinician string\n",
    "            return f\"summary: {data.get('summary', 'N/A')}\\ndiagnosis: {data.get('diagnosis', 'N/A')}\\nplan: {data.get('management_plan', 'N/A')}\"\n",
    "        else:\n",
    "            return \"Error: Model returned no response.\"\n",
    "\n",
    "    except json.JSONDecodeError:\n",
    "        # Fallback if the model output is not valid JSON\n",
    "        return f\"Error: Failed to parse JSON. Raw output: {raw_text}\"\n",
    "    except Exception as e:\n",
    "        return f\"Error: An unexpected API error occurred: {e}\""
   ]
  },
  {
   "cell_type": "code",
   "execution_count": 4,
   "id": "c2631e09",
   "metadata": {
    "execution": {
     "iopub.execute_input": "2025-06-09T19:14:10.202704Z",
     "iopub.status.busy": "2025-06-09T19:14:10.202490Z",
     "iopub.status.idle": "2025-06-09T19:20:43.741735Z",
     "shell.execute_reply": "2025-06-09T19:20:43.737281Z"
    },
    "papermill": {
     "duration": 393.547203,
     "end_time": "2025-06-09T19:20:43.744636",
     "exception": false,
     "start_time": "2025-06-09T19:14:10.197433",
     "status": "completed"
    },
    "tags": []
   },
   "outputs": [
    {
     "name": "stdout",
     "output_type": "stream",
     "text": [
      "Starting prediction process with 'Moonshot' architecture...\n",
      "Processing row 1/100: Master_Index = ID_CUAOY\n"
     ]
    },
    {
     "name": "stdout",
     "output_type": "stream",
     "text": [
      "  > Generated Response: 'summary: A 24-year-old female presents with 2 days of gradually worsen'...\n",
      "--------------------\n"
     ]
    },
    {
     "name": "stdout",
     "output_type": "stream",
     "text": [
      "Processing row 2/100: Master_Index = ID_OGSAY\n"
     ]
    },
    {
     "name": "stdout",
     "output_type": "stream",
     "text": [
      "  > Generated Response: 'summary: A 3-year-old boy presented with a bean seed deeply lodged in '...\n",
      "--------------------\n"
     ]
    },
    {
     "name": "stdout",
     "output_type": "stream",
     "text": [
      "Processing row 3/100: Master_Index = ID_TYHSA\n"
     ]
    },
    {
     "name": "stdout",
     "output_type": "stream",
     "text": [
      "  > Generated Response: 'summary: A 22-year-old man presents with a two-week history of progres'...\n",
      "--------------------\n"
     ]
    },
    {
     "name": "stdout",
     "output_type": "stream",
     "text": [
      "Processing row 4/100: Master_Index = ID_CZXLD\n"
     ]
    },
    {
     "name": "stdout",
     "output_type": "stream",
     "text": [
      "  > Generated Response: 'Error: Failed to parse JSON. Raw output: ```json\\n{\\n  \"summary\": \"A 6-y'...\n",
      "--------------------\n"
     ]
    },
    {
     "name": "stdout",
     "output_type": "stream",
     "text": [
      "Processing row 5/100: Master_Index = ID_ZJQUQ\n"
     ]
    },
    {
     "name": "stdout",
     "output_type": "stream",
     "text": [
      "  > Generated Response: 'summary: A 1-year-old boy, unvaccinated for measles, presents with a g'...\n",
      "--------------------\n"
     ]
    },
    {
     "name": "stdout",
     "output_type": "stream",
     "text": [
      "Processing row 6/100: Master_Index = ID_HYSCV\n"
     ]
    },
    {
     "name": "stdout",
     "output_type": "stream",
     "text": [
      "  > Generated Response: 'summary: A patient is scheduled for a second surgical excision of kelo'...\n",
      "--------------------\n"
     ]
    },
    {
     "name": "stdout",
     "output_type": "stream",
     "text": [
      "Processing row 7/100: Master_Index = ID_DXHPF\n"
     ]
    },
    {
     "name": "stdout",
     "output_type": "stream",
     "text": [
      "  > Generated Response: 'summary: A 14-year-old female presents with acute right lower limb pai'...\n",
      "--------------------\n"
     ]
    },
    {
     "name": "stdout",
     "output_type": "stream",
     "text": [
      "Processing row 8/100: Master_Index = ID_GDFDN\n"
     ]
    },
    {
     "name": "stdout",
     "output_type": "stream",
     "text": [
      "  > Generated Response: 'summary: A pregnant mother presented to a health center with premature'...\n",
      "--------------------\n"
     ]
    },
    {
     "name": "stdout",
     "output_type": "stream",
     "text": [
      "Processing row 9/100: Master_Index = ID_UFAFI\n"
     ]
    },
    {
     "name": "stdout",
     "output_type": "stream",
     "text": [
      "  > Generated Response: 'summary: A 23-year-old female, 10 days postpartum, presents with acute'...\n",
      "--------------------\n"
     ]
    },
    {
     "name": "stdout",
     "output_type": "stream",
     "text": [
      "Processing row 10/100: Master_Index = ID_KMBGG\n"
     ]
    },
    {
     "name": "stdout",
     "output_type": "stream",
     "text": [
      "  > Generated Response: 'summary: A 4-year-old boy from West Pokot was referred to a national r'...\n",
      "--------------------\n"
     ]
    },
    {
     "name": "stdout",
     "output_type": "stream",
     "text": [
      "Processing row 11/100: Master_Index = ID_GCHQJ\n"
     ]
    },
    {
     "name": "stdout",
     "output_type": "stream",
     "text": [
      "  > Generated Response: 'summary: A female patient, with no known history of trauma, hypertensi'...\n",
      "--------------------\n"
     ]
    },
    {
     "name": "stdout",
     "output_type": "stream",
     "text": [
      "Processing row 12/100: Master_Index = ID_FBVXH\n"
     ]
    },
    {
     "name": "stdout",
     "output_type": "stream",
     "text": [
      "  > Generated Response: 'summary: An 8-year-old male presents with a 2-week history of easy fat'...\n",
      "--------------------\n"
     ]
    },
    {
     "name": "stdout",
     "output_type": "stream",
     "text": [
      "Processing row 13/100: Master_Index = ID_GFQXW\n"
     ]
    },
    {
     "name": "stdout",
     "output_type": "stream",
     "text": [
      "  > Generated Response: 'summary: A 10-day postpartum mother presents with fever (38°C), tachyc'...\n",
      "--------------------\n"
     ]
    },
    {
     "name": "stdout",
     "output_type": "stream",
     "text": [
      "Processing row 14/100: Master_Index = ID_KQFSM\n"
     ]
    },
    {
     "name": "stdout",
     "output_type": "stream",
     "text": [
      "  > Generated Response: 'summary: A 20-year-old pregnant woman at her 6th ANC visit, previously'...\n",
      "--------------------\n"
     ]
    },
    {
     "name": "stdout",
     "output_type": "stream",
     "text": [
      "Processing row 15/100: Master_Index = ID_OTEWX\n"
     ]
    },
    {
     "name": "stdout",
     "output_type": "stream",
     "text": [
      "  > Generated Response: 'summary: An 85-year-old male, with a history of recurrent heart failur'...\n",
      "--------------------\n"
     ]
    },
    {
     "name": "stdout",
     "output_type": "stream",
     "text": [
      "Processing row 16/100: Master_Index = ID_KTTZQ\n"
     ]
    },
    {
     "name": "stdout",
     "output_type": "stream",
     "text": [
      "  > Generated Response: 'summary: A 30-year-old woman on Depo-Provera presents with a one-month'...\n",
      "--------------------\n"
     ]
    },
    {
     "name": "stdout",
     "output_type": "stream",
     "text": [
      "Processing row 17/100: Master_Index = ID_DFFBJ\n"
     ]
    },
    {
     "name": "stdout",
     "output_type": "stream",
     "text": [
      "  > Generated Response: 'summary: A 12-year-old girl presents to the emergency department with '...\n",
      "--------------------\n"
     ]
    },
    {
     "name": "stdout",
     "output_type": "stream",
     "text": [
      "Processing row 18/100: Master_Index = ID_ZQLND\n"
     ]
    },
    {
     "name": "stdout",
     "output_type": "stream",
     "text": [
      "  > Generated Response: 'summary: A mother, 4th day post-delivery, presents with altered mental'...\n",
      "--------------------\n"
     ]
    },
    {
     "name": "stdout",
     "output_type": "stream",
     "text": [
      "Processing row 19/100: Master_Index = ID_LXBDD\n"
     ]
    },
    {
     "name": "stdout",
     "output_type": "stream",
     "text": [
      "  > Generated Response: 'summary: An 8-year-old boy presented to the ED of a national referral '...\n",
      "--------------------\n"
     ]
    },
    {
     "name": "stdout",
     "output_type": "stream",
     "text": [
      "Processing row 20/100: Master_Index = ID_PWETS\n"
     ]
    },
    {
     "name": "stdout",
     "output_type": "stream",
     "text": [
      "  > Generated Response: 'summary: A 7-week pregnant, nulliparous woman presents with per vagina'...\n",
      "--------------------\n"
     ]
    },
    {
     "name": "stdout",
     "output_type": "stream",
     "text": [
      "Processing row 21/100: Master_Index = ID_VJVBS\n"
     ]
    },
    {
     "name": "stdout",
     "output_type": "stream",
     "text": [
      "  > Generated Response: 'Error: Failed to parse JSON. Raw output: ```json\\n{\\n  \"summary\": \"A 6-y'...\n",
      "--------------------\n"
     ]
    },
    {
     "name": "stdout",
     "output_type": "stream",
     "text": [
      "Processing row 22/100: Master_Index = ID_OZCVT\n"
     ]
    },
    {
     "name": "stdout",
     "output_type": "stream",
     "text": [
      "  > Generated Response: 'summary: A 40-year-old female presents to the outpatient department wi'...\n",
      "--------------------\n"
     ]
    },
    {
     "name": "stdout",
     "output_type": "stream",
     "text": [
      "Processing row 23/100: Master_Index = ID_HBKUL\n"
     ]
    },
    {
     "name": "stdout",
     "output_type": "stream",
     "text": [
      "  > Generated Response: 'summary: A 32-year-old male presents with acute onset difficulty in br'...\n",
      "--------------------\n"
     ]
    },
    {
     "name": "stdout",
     "output_type": "stream",
     "text": [
      "Processing row 24/100: Master_Index = ID_ZVYUH\n"
     ]
    },
    {
     "name": "stdout",
     "output_type": "stream",
     "text": [
      "  > Generated Response: 'summary: A 46-year-old female presents with a 3-day history of spontan'...\n",
      "--------------------\n"
     ]
    },
    {
     "name": "stdout",
     "output_type": "stream",
     "text": [
      "Processing row 25/100: Master_Index = ID_SHIKK\n"
     ]
    },
    {
     "name": "stdout",
     "output_type": "stream",
     "text": [
      "  > Generated Response: 'Error: Failed to parse JSON. Raw output: {\\n  \"summary\": \"A 60-year-old'...\n",
      "--------------------\n"
     ]
    },
    {
     "name": "stdout",
     "output_type": "stream",
     "text": [
      "Processing row 26/100: Master_Index = ID_BZMKN\n"
     ]
    },
    {
     "name": "stdout",
     "output_type": "stream",
     "text": [
      "  > Generated Response: 'Error: An unexpected API error occurred: 429 You exceeded your current'...\n",
      "--------------------\n"
     ]
    },
    {
     "name": "stdout",
     "output_type": "stream",
     "text": [
      "Processing row 27/100: Master_Index = ID_GWZRC\n"
     ]
    },
    {
     "name": "stdout",
     "output_type": "stream",
     "text": [
      "  > Generated Response: 'Error: An unexpected API error occurred: 429 You exceeded your current'...\n",
      "--------------------\n"
     ]
    },
    {
     "name": "stdout",
     "output_type": "stream",
     "text": [
      "Processing row 28/100: Master_Index = ID_BMKRM\n"
     ]
    },
    {
     "name": "stdout",
     "output_type": "stream",
     "text": [
      "  > Generated Response: 'Error: An unexpected API error occurred: 429 You exceeded your current'...\n",
      "--------------------\n"
     ]
    },
    {
     "name": "stdout",
     "output_type": "stream",
     "text": [
      "Processing row 29/100: Master_Index = ID_QDMBJ\n"
     ]
    },
    {
     "name": "stdout",
     "output_type": "stream",
     "text": [
      "  > Generated Response: 'Error: An unexpected API error occurred: 429 You exceeded your current'...\n",
      "--------------------\n"
     ]
    },
    {
     "name": "stdout",
     "output_type": "stream",
     "text": [
      "Processing row 30/100: Master_Index = ID_LWSTJ\n"
     ]
    },
    {
     "name": "stdout",
     "output_type": "stream",
     "text": [
      "  > Generated Response: 'Error: An unexpected API error occurred: 429 You exceeded your current'...\n",
      "--------------------\n"
     ]
    },
    {
     "name": "stdout",
     "output_type": "stream",
     "text": [
      "Processing row 31/100: Master_Index = ID_APFPK\n"
     ]
    },
    {
     "name": "stdout",
     "output_type": "stream",
     "text": [
      "  > Generated Response: 'Error: An unexpected API error occurred: 429 You exceeded your current'...\n",
      "--------------------\n"
     ]
    },
    {
     "name": "stdout",
     "output_type": "stream",
     "text": [
      "Processing row 32/100: Master_Index = ID_NTHZR\n"
     ]
    },
    {
     "name": "stdout",
     "output_type": "stream",
     "text": [
      "  > Generated Response: 'Error: An unexpected API error occurred: 429 You exceeded your current'...\n",
      "--------------------\n"
     ]
    },
    {
     "name": "stdout",
     "output_type": "stream",
     "text": [
      "Processing row 33/100: Master_Index = ID_UAHZM\n"
     ]
    },
    {
     "name": "stdout",
     "output_type": "stream",
     "text": [
      "  > Generated Response: 'Error: An unexpected API error occurred: 429 You exceeded your current'...\n",
      "--------------------\n"
     ]
    },
    {
     "name": "stdout",
     "output_type": "stream",
     "text": [
      "Processing row 34/100: Master_Index = ID_UHJDN\n"
     ]
    },
    {
     "name": "stdout",
     "output_type": "stream",
     "text": [
      "  > Generated Response: 'Error: An unexpected API error occurred: 429 You exceeded your current'...\n",
      "--------------------\n"
     ]
    },
    {
     "name": "stdout",
     "output_type": "stream",
     "text": [
      "Processing row 35/100: Master_Index = ID_FNAFQ\n"
     ]
    },
    {
     "name": "stdout",
     "output_type": "stream",
     "text": [
      "  > Generated Response: 'Error: An unexpected API error occurred: 429 You exceeded your current'...\n",
      "--------------------\n"
     ]
    },
    {
     "name": "stdout",
     "output_type": "stream",
     "text": [
      "Processing row 36/100: Master_Index = ID_WRMNW\n"
     ]
    },
    {
     "name": "stdout",
     "output_type": "stream",
     "text": [
      "  > Generated Response: 'Error: An unexpected API error occurred: 429 You exceeded your current'...\n",
      "--------------------\n"
     ]
    },
    {
     "name": "stdout",
     "output_type": "stream",
     "text": [
      "Processing row 37/100: Master_Index = ID_OMWIY\n"
     ]
    },
    {
     "name": "stdout",
     "output_type": "stream",
     "text": [
      "  > Generated Response: 'Error: An unexpected API error occurred: 429 You exceeded your current'...\n",
      "--------------------\n"
     ]
    },
    {
     "name": "stdout",
     "output_type": "stream",
     "text": [
      "Processing row 38/100: Master_Index = ID_ZNYCZ\n"
     ]
    },
    {
     "name": "stdout",
     "output_type": "stream",
     "text": [
      "  > Generated Response: 'Error: An unexpected API error occurred: 429 You exceeded your current'...\n",
      "--------------------\n"
     ]
    },
    {
     "name": "stdout",
     "output_type": "stream",
     "text": [
      "Processing row 39/100: Master_Index = ID_NCNYB\n"
     ]
    },
    {
     "name": "stdout",
     "output_type": "stream",
     "text": [
      "  > Generated Response: 'Error: An unexpected API error occurred: 429 You exceeded your current'...\n",
      "--------------------\n"
     ]
    },
    {
     "name": "stdout",
     "output_type": "stream",
     "text": [
      "Processing row 40/100: Master_Index = ID_WKQEY\n"
     ]
    },
    {
     "name": "stdout",
     "output_type": "stream",
     "text": [
      "  > Generated Response: 'Error: An unexpected API error occurred: 429 You exceeded your current'...\n",
      "--------------------\n"
     ]
    },
    {
     "name": "stdout",
     "output_type": "stream",
     "text": [
      "Processing row 41/100: Master_Index = ID_VLNLB\n"
     ]
    },
    {
     "name": "stdout",
     "output_type": "stream",
     "text": [
      "  > Generated Response: 'Error: An unexpected API error occurred: 429 You exceeded your current'...\n",
      "--------------------\n"
     ]
    },
    {
     "name": "stdout",
     "output_type": "stream",
     "text": [
      "Processing row 42/100: Master_Index = ID_DGSSB\n"
     ]
    },
    {
     "name": "stdout",
     "output_type": "stream",
     "text": [
      "  > Generated Response: 'Error: An unexpected API error occurred: 429 You exceeded your current'...\n",
      "--------------------\n"
     ]
    },
    {
     "name": "stdout",
     "output_type": "stream",
     "text": [
      "Processing row 43/100: Master_Index = ID_JADVZ\n"
     ]
    },
    {
     "name": "stdout",
     "output_type": "stream",
     "text": [
      "  > Generated Response: 'Error: An unexpected API error occurred: 429 You exceeded your current'...\n",
      "--------------------\n"
     ]
    },
    {
     "name": "stdout",
     "output_type": "stream",
     "text": [
      "Processing row 44/100: Master_Index = ID_ILPTC\n"
     ]
    },
    {
     "name": "stdout",
     "output_type": "stream",
     "text": [
      "  > Generated Response: 'Error: An unexpected API error occurred: 429 You exceeded your current'...\n",
      "--------------------\n"
     ]
    },
    {
     "name": "stdout",
     "output_type": "stream",
     "text": [
      "Processing row 45/100: Master_Index = ID_BGRFD\n"
     ]
    },
    {
     "name": "stdout",
     "output_type": "stream",
     "text": [
      "  > Generated Response: 'Error: An unexpected API error occurred: 429 You exceeded your current'...\n",
      "--------------------\n"
     ]
    },
    {
     "name": "stdout",
     "output_type": "stream",
     "text": [
      "Processing row 46/100: Master_Index = ID_HDKYR\n"
     ]
    },
    {
     "name": "stdout",
     "output_type": "stream",
     "text": [
      "  > Generated Response: 'Error: An unexpected API error occurred: 429 You exceeded your current'...\n",
      "--------------------\n"
     ]
    },
    {
     "name": "stdout",
     "output_type": "stream",
     "text": [
      "Processing row 47/100: Master_Index = ID_QAHFT\n"
     ]
    },
    {
     "name": "stdout",
     "output_type": "stream",
     "text": [
      "  > Generated Response: 'Error: An unexpected API error occurred: 429 You exceeded your current'...\n",
      "--------------------\n"
     ]
    },
    {
     "name": "stdout",
     "output_type": "stream",
     "text": [
      "Processing row 48/100: Master_Index = ID_PESEJ\n"
     ]
    },
    {
     "name": "stdout",
     "output_type": "stream",
     "text": [
      "  > Generated Response: 'Error: An unexpected API error occurred: 429 You exceeded your current'...\n",
      "--------------------\n"
     ]
    },
    {
     "name": "stdout",
     "output_type": "stream",
     "text": [
      "Processing row 49/100: Master_Index = ID_OFDGY\n"
     ]
    },
    {
     "name": "stdout",
     "output_type": "stream",
     "text": [
      "  > Generated Response: 'Error: An unexpected API error occurred: 429 You exceeded your current'...\n",
      "--------------------\n"
     ]
    },
    {
     "name": "stdout",
     "output_type": "stream",
     "text": [
      "Processing row 50/100: Master_Index = ID_WGNEX\n"
     ]
    },
    {
     "name": "stdout",
     "output_type": "stream",
     "text": [
      "  > Generated Response: 'Error: An unexpected API error occurred: 429 You exceeded your current'...\n",
      "--------------------\n"
     ]
    },
    {
     "name": "stdout",
     "output_type": "stream",
     "text": [
      "Processing row 51/100: Master_Index = ID_SIPNK\n"
     ]
    },
    {
     "name": "stdout",
     "output_type": "stream",
     "text": [
      "  > Generated Response: 'Error: An unexpected API error occurred: 429 You exceeded your current'...\n",
      "--------------------\n"
     ]
    },
    {
     "name": "stdout",
     "output_type": "stream",
     "text": [
      "Processing row 52/100: Master_Index = ID_MXHUP\n"
     ]
    },
    {
     "name": "stdout",
     "output_type": "stream",
     "text": [
      "  > Generated Response: 'Error: An unexpected API error occurred: 429 You exceeded your current'...\n",
      "--------------------\n"
     ]
    },
    {
     "name": "stdout",
     "output_type": "stream",
     "text": [
      "Processing row 53/100: Master_Index = ID_KBQBD\n"
     ]
    },
    {
     "name": "stdout",
     "output_type": "stream",
     "text": [
      "  > Generated Response: 'Error: An unexpected API error occurred: 429 You exceeded your current'...\n",
      "--------------------\n"
     ]
    },
    {
     "name": "stdout",
     "output_type": "stream",
     "text": [
      "Processing row 54/100: Master_Index = ID_AYZDZ\n"
     ]
    },
    {
     "name": "stdout",
     "output_type": "stream",
     "text": [
      "  > Generated Response: 'Error: An unexpected API error occurred: 429 You exceeded your current'...\n",
      "--------------------\n"
     ]
    },
    {
     "name": "stdout",
     "output_type": "stream",
     "text": [
      "Processing row 55/100: Master_Index = ID_GAWOX\n"
     ]
    },
    {
     "name": "stdout",
     "output_type": "stream",
     "text": [
      "  > Generated Response: 'Error: An unexpected API error occurred: 429 You exceeded your current'...\n",
      "--------------------\n"
     ]
    },
    {
     "name": "stdout",
     "output_type": "stream",
     "text": [
      "Processing row 56/100: Master_Index = ID_DCOHP\n"
     ]
    },
    {
     "name": "stdout",
     "output_type": "stream",
     "text": [
      "  > Generated Response: 'Error: An unexpected API error occurred: 429 You exceeded your current'...\n",
      "--------------------\n"
     ]
    },
    {
     "name": "stdout",
     "output_type": "stream",
     "text": [
      "Processing row 57/100: Master_Index = ID_RWISH\n"
     ]
    },
    {
     "name": "stdout",
     "output_type": "stream",
     "text": [
      "  > Generated Response: 'Error: An unexpected API error occurred: 429 You exceeded your current'...\n",
      "--------------------\n"
     ]
    },
    {
     "name": "stdout",
     "output_type": "stream",
     "text": [
      "Processing row 58/100: Master_Index = ID_CQUKB\n"
     ]
    },
    {
     "name": "stdout",
     "output_type": "stream",
     "text": [
      "  > Generated Response: 'Error: An unexpected API error occurred: 429 You exceeded your current'...\n",
      "--------------------\n"
     ]
    },
    {
     "name": "stdout",
     "output_type": "stream",
     "text": [
      "Processing row 59/100: Master_Index = ID_FFWID\n"
     ]
    },
    {
     "name": "stdout",
     "output_type": "stream",
     "text": [
      "  > Generated Response: 'Error: An unexpected API error occurred: 429 You exceeded your current'...\n",
      "--------------------\n"
     ]
    },
    {
     "name": "stdout",
     "output_type": "stream",
     "text": [
      "Processing row 60/100: Master_Index = ID_XQHOA\n"
     ]
    },
    {
     "name": "stdout",
     "output_type": "stream",
     "text": [
      "  > Generated Response: 'Error: An unexpected API error occurred: 429 You exceeded your current'...\n",
      "--------------------\n"
     ]
    },
    {
     "name": "stdout",
     "output_type": "stream",
     "text": [
      "Processing row 61/100: Master_Index = ID_PJSQE\n"
     ]
    },
    {
     "name": "stdout",
     "output_type": "stream",
     "text": [
      "  > Generated Response: 'Error: An unexpected API error occurred: 429 You exceeded your current'...\n",
      "--------------------\n"
     ]
    },
    {
     "name": "stdout",
     "output_type": "stream",
     "text": [
      "Processing row 62/100: Master_Index = ID_EFYMF\n"
     ]
    },
    {
     "name": "stdout",
     "output_type": "stream",
     "text": [
      "  > Generated Response: 'Error: An unexpected API error occurred: 429 You exceeded your current'...\n",
      "--------------------\n"
     ]
    },
    {
     "name": "stdout",
     "output_type": "stream",
     "text": [
      "Processing row 63/100: Master_Index = ID_QMQHY\n"
     ]
    },
    {
     "name": "stdout",
     "output_type": "stream",
     "text": [
      "  > Generated Response: 'Error: An unexpected API error occurred: 429 You exceeded your current'...\n",
      "--------------------\n"
     ]
    },
    {
     "name": "stdout",
     "output_type": "stream",
     "text": [
      "Processing row 64/100: Master_Index = ID_QSQZO\n"
     ]
    },
    {
     "name": "stdout",
     "output_type": "stream",
     "text": [
      "  > Generated Response: 'Error: An unexpected API error occurred: 429 You exceeded your current'...\n",
      "--------------------\n"
     ]
    },
    {
     "name": "stdout",
     "output_type": "stream",
     "text": [
      "Processing row 65/100: Master_Index = ID_HLPRM\n"
     ]
    },
    {
     "name": "stdout",
     "output_type": "stream",
     "text": [
      "  > Generated Response: 'Error: An unexpected API error occurred: 429 You exceeded your current'...\n",
      "--------------------\n"
     ]
    },
    {
     "name": "stdout",
     "output_type": "stream",
     "text": [
      "Processing row 66/100: Master_Index = ID_WOBZV\n"
     ]
    },
    {
     "name": "stdout",
     "output_type": "stream",
     "text": [
      "  > Generated Response: 'Error: An unexpected API error occurred: 429 You exceeded your current'...\n",
      "--------------------\n"
     ]
    },
    {
     "name": "stdout",
     "output_type": "stream",
     "text": [
      "Processing row 67/100: Master_Index = ID_QPFCH\n"
     ]
    },
    {
     "name": "stdout",
     "output_type": "stream",
     "text": [
      "  > Generated Response: 'Error: An unexpected API error occurred: 429 You exceeded your current'...\n",
      "--------------------\n"
     ]
    },
    {
     "name": "stdout",
     "output_type": "stream",
     "text": [
      "Processing row 68/100: Master_Index = ID_CEPRG\n"
     ]
    },
    {
     "name": "stdout",
     "output_type": "stream",
     "text": [
      "  > Generated Response: 'Error: An unexpected API error occurred: 429 You exceeded your current'...\n",
      "--------------------\n"
     ]
    },
    {
     "name": "stdout",
     "output_type": "stream",
     "text": [
      "Processing row 69/100: Master_Index = ID_SKCAI\n"
     ]
    },
    {
     "name": "stdout",
     "output_type": "stream",
     "text": [
      "  > Generated Response: 'Error: An unexpected API error occurred: 429 You exceeded your current'...\n",
      "--------------------\n"
     ]
    },
    {
     "name": "stdout",
     "output_type": "stream",
     "text": [
      "Processing row 70/100: Master_Index = ID_JENNS\n"
     ]
    },
    {
     "name": "stdout",
     "output_type": "stream",
     "text": [
      "  > Generated Response: 'Error: An unexpected API error occurred: 429 You exceeded your current'...\n",
      "--------------------\n"
     ]
    },
    {
     "name": "stdout",
     "output_type": "stream",
     "text": [
      "Processing row 71/100: Master_Index = ID_QSPEG\n"
     ]
    },
    {
     "name": "stdout",
     "output_type": "stream",
     "text": [
      "  > Generated Response: 'Error: An unexpected API error occurred: 429 You exceeded your current'...\n",
      "--------------------\n"
     ]
    },
    {
     "name": "stdout",
     "output_type": "stream",
     "text": [
      "Processing row 72/100: Master_Index = ID_ZTHIV\n"
     ]
    },
    {
     "name": "stdout",
     "output_type": "stream",
     "text": [
      "  > Generated Response: 'Error: An unexpected API error occurred: 429 You exceeded your current'...\n",
      "--------------------\n"
     ]
    },
    {
     "name": "stdout",
     "output_type": "stream",
     "text": [
      "Processing row 73/100: Master_Index = ID_HVSDS\n"
     ]
    },
    {
     "name": "stdout",
     "output_type": "stream",
     "text": [
      "  > Generated Response: 'Error: An unexpected API error occurred: 429 You exceeded your current'...\n",
      "--------------------\n"
     ]
    },
    {
     "name": "stdout",
     "output_type": "stream",
     "text": [
      "Processing row 74/100: Master_Index = ID_BFBYN\n"
     ]
    },
    {
     "name": "stdout",
     "output_type": "stream",
     "text": [
      "  > Generated Response: 'Error: An unexpected API error occurred: 429 You exceeded your current'...\n",
      "--------------------\n"
     ]
    },
    {
     "name": "stdout",
     "output_type": "stream",
     "text": [
      "Processing row 75/100: Master_Index = ID_EISIY\n"
     ]
    },
    {
     "name": "stdout",
     "output_type": "stream",
     "text": [
      "  > Generated Response: 'Error: An unexpected API error occurred: 429 You exceeded your current'...\n",
      "--------------------\n"
     ]
    },
    {
     "name": "stdout",
     "output_type": "stream",
     "text": [
      "Processing row 76/100: Master_Index = ID_GCTMK\n"
     ]
    },
    {
     "name": "stdout",
     "output_type": "stream",
     "text": [
      "  > Generated Response: 'Error: An unexpected API error occurred: 429 You exceeded your current'...\n",
      "--------------------\n"
     ]
    },
    {
     "name": "stdout",
     "output_type": "stream",
     "text": [
      "Processing row 77/100: Master_Index = ID_NIVMV\n"
     ]
    },
    {
     "name": "stdout",
     "output_type": "stream",
     "text": [
      "  > Generated Response: 'Error: An unexpected API error occurred: 429 You exceeded your current'...\n",
      "--------------------\n"
     ]
    },
    {
     "name": "stdout",
     "output_type": "stream",
     "text": [
      "Processing row 78/100: Master_Index = ID_WZHQK\n"
     ]
    },
    {
     "name": "stdout",
     "output_type": "stream",
     "text": [
      "  > Generated Response: 'Error: An unexpected API error occurred: 429 You exceeded your current'...\n",
      "--------------------\n"
     ]
    },
    {
     "name": "stdout",
     "output_type": "stream",
     "text": [
      "Processing row 79/100: Master_Index = ID_ZHSMO\n"
     ]
    },
    {
     "name": "stdout",
     "output_type": "stream",
     "text": [
      "  > Generated Response: 'Error: An unexpected API error occurred: 429 You exceeded your current'...\n",
      "--------------------\n"
     ]
    },
    {
     "name": "stdout",
     "output_type": "stream",
     "text": [
      "Processing row 80/100: Master_Index = ID_RKTZL\n"
     ]
    },
    {
     "name": "stdout",
     "output_type": "stream",
     "text": [
      "  > Generated Response: 'Error: An unexpected API error occurred: 429 You exceeded your current'...\n",
      "--------------------\n"
     ]
    },
    {
     "name": "stdout",
     "output_type": "stream",
     "text": [
      "Processing row 81/100: Master_Index = ID_PGEOO\n"
     ]
    },
    {
     "name": "stdout",
     "output_type": "stream",
     "text": [
      "  > Generated Response: 'Error: An unexpected API error occurred: 429 You exceeded your current'...\n",
      "--------------------\n"
     ]
    },
    {
     "name": "stdout",
     "output_type": "stream",
     "text": [
      "Processing row 82/100: Master_Index = ID_VTRFF\n"
     ]
    },
    {
     "name": "stdout",
     "output_type": "stream",
     "text": [
      "  > Generated Response: 'Error: An unexpected API error occurred: 429 You exceeded your current'...\n",
      "--------------------\n"
     ]
    },
    {
     "name": "stdout",
     "output_type": "stream",
     "text": [
      "Processing row 83/100: Master_Index = ID_CWEIL\n"
     ]
    },
    {
     "name": "stdout",
     "output_type": "stream",
     "text": [
      "  > Generated Response: 'Error: An unexpected API error occurred: 429 You exceeded your current'...\n",
      "--------------------\n"
     ]
    },
    {
     "name": "stdout",
     "output_type": "stream",
     "text": [
      "Processing row 84/100: Master_Index = ID_WLSXB\n"
     ]
    },
    {
     "name": "stdout",
     "output_type": "stream",
     "text": [
      "  > Generated Response: 'Error: An unexpected API error occurred: 429 You exceeded your current'...\n",
      "--------------------\n"
     ]
    },
    {
     "name": "stdout",
     "output_type": "stream",
     "text": [
      "Processing row 85/100: Master_Index = ID_VOVAB\n"
     ]
    },
    {
     "name": "stdout",
     "output_type": "stream",
     "text": [
      "  > Generated Response: 'Error: An unexpected API error occurred: 429 You exceeded your current'...\n",
      "--------------------\n"
     ]
    },
    {
     "name": "stdout",
     "output_type": "stream",
     "text": [
      "Processing row 86/100: Master_Index = ID_XTMGG\n"
     ]
    },
    {
     "name": "stdout",
     "output_type": "stream",
     "text": [
      "  > Generated Response: 'Error: An unexpected API error occurred: 429 You exceeded your current'...\n",
      "--------------------\n"
     ]
    },
    {
     "name": "stdout",
     "output_type": "stream",
     "text": [
      "Processing row 87/100: Master_Index = ID_ZHZRH\n"
     ]
    },
    {
     "name": "stdout",
     "output_type": "stream",
     "text": [
      "  > Generated Response: 'Error: An unexpected API error occurred: 429 You exceeded your current'...\n",
      "--------------------\n"
     ]
    },
    {
     "name": "stdout",
     "output_type": "stream",
     "text": [
      "Processing row 88/100: Master_Index = ID_MVXJK\n"
     ]
    },
    {
     "name": "stdout",
     "output_type": "stream",
     "text": [
      "  > Generated Response: 'Error: An unexpected API error occurred: 429 You exceeded your current'...\n",
      "--------------------\n"
     ]
    },
    {
     "name": "stdout",
     "output_type": "stream",
     "text": [
      "Processing row 89/100: Master_Index = ID_OPCIZ\n"
     ]
    },
    {
     "name": "stdout",
     "output_type": "stream",
     "text": [
      "  > Generated Response: 'Error: An unexpected API error occurred: 429 You exceeded your current'...\n",
      "--------------------\n"
     ]
    },
    {
     "name": "stdout",
     "output_type": "stream",
     "text": [
      "Processing row 90/100: Master_Index = ID_LACGV\n"
     ]
    },
    {
     "name": "stdout",
     "output_type": "stream",
     "text": [
      "  > Generated Response: 'Error: An unexpected API error occurred: 429 You exceeded your current'...\n",
      "--------------------\n"
     ]
    },
    {
     "name": "stdout",
     "output_type": "stream",
     "text": [
      "Processing row 91/100: Master_Index = ID_SCOBO\n"
     ]
    },
    {
     "name": "stdout",
     "output_type": "stream",
     "text": [
      "  > Generated Response: 'Error: An unexpected API error occurred: 429 You exceeded your current'...\n",
      "--------------------\n"
     ]
    },
    {
     "name": "stdout",
     "output_type": "stream",
     "text": [
      "Processing row 92/100: Master_Index = ID_WQREZ\n"
     ]
    },
    {
     "name": "stdout",
     "output_type": "stream",
     "text": [
      "  > Generated Response: 'Error: An unexpected API error occurred: 429 You exceeded your current'...\n",
      "--------------------\n"
     ]
    },
    {
     "name": "stdout",
     "output_type": "stream",
     "text": [
      "Processing row 93/100: Master_Index = ID_KYWMF\n"
     ]
    },
    {
     "name": "stdout",
     "output_type": "stream",
     "text": [
      "  > Generated Response: 'Error: An unexpected API error occurred: 429 You exceeded your current'...\n",
      "--------------------\n"
     ]
    },
    {
     "name": "stdout",
     "output_type": "stream",
     "text": [
      "Processing row 94/100: Master_Index = ID_MURHB\n"
     ]
    },
    {
     "name": "stdout",
     "output_type": "stream",
     "text": [
      "  > Generated Response: 'Error: An unexpected API error occurred: 429 You exceeded your current'...\n",
      "--------------------\n"
     ]
    },
    {
     "name": "stdout",
     "output_type": "stream",
     "text": [
      "Processing row 95/100: Master_Index = ID_MLUOW\n"
     ]
    },
    {
     "name": "stdout",
     "output_type": "stream",
     "text": [
      "  > Generated Response: 'Error: An unexpected API error occurred: 429 You exceeded your current'...\n",
      "--------------------\n"
     ]
    },
    {
     "name": "stdout",
     "output_type": "stream",
     "text": [
      "Processing row 96/100: Master_Index = ID_AYCAI\n"
     ]
    },
    {
     "name": "stdout",
     "output_type": "stream",
     "text": [
      "  > Generated Response: 'Error: An unexpected API error occurred: 429 You exceeded your current'...\n",
      "--------------------\n"
     ]
    },
    {
     "name": "stdout",
     "output_type": "stream",
     "text": [
      "Processing row 97/100: Master_Index = ID_CLEYN\n"
     ]
    },
    {
     "name": "stdout",
     "output_type": "stream",
     "text": [
      "  > Generated Response: 'Error: An unexpected API error occurred: 429 You exceeded your current'...\n",
      "--------------------\n"
     ]
    },
    {
     "name": "stdout",
     "output_type": "stream",
     "text": [
      "Processing row 98/100: Master_Index = ID_BRIIW\n"
     ]
    },
    {
     "name": "stdout",
     "output_type": "stream",
     "text": [
      "  > Generated Response: 'Error: An unexpected API error occurred: 429 You exceeded your current'...\n",
      "--------------------\n"
     ]
    },
    {
     "name": "stdout",
     "output_type": "stream",
     "text": [
      "Processing row 99/100: Master_Index = ID_SNZBL\n"
     ]
    },
    {
     "name": "stdout",
     "output_type": "stream",
     "text": [
      "  > Generated Response: 'Error: An unexpected API error occurred: 429 You exceeded your current'...\n",
      "--------------------\n"
     ]
    },
    {
     "name": "stdout",
     "output_type": "stream",
     "text": [
      "Processing row 100/100: Master_Index = ID_KXLGG\n"
     ]
    },
    {
     "name": "stdout",
     "output_type": "stream",
     "text": [
      "  > Generated Response: 'Error: An unexpected API error occurred: 429 You exceeded your current'...\n",
      "--------------------\n"
     ]
    },
    {
     "name": "stdout",
     "output_type": "stream",
     "text": [
      "Prediction process finished.\n"
     ]
    },
    {
     "name": "stdout",
     "output_type": "stream",
     "text": [
      "Submission file 'submission.csv' has been created successfully!\n"
     ]
    },
    {
     "name": "stdout",
     "output_type": "stream",
     "text": [
      "  Master_Index                                          Clinician\n",
      "0     ID_CUAOY  summary: A 24-year-old female presents with 2 ...\n",
      "1     ID_OGSAY  summary: A 3-year-old boy presented with a bea...\n",
      "2     ID_TYHSA  summary: A 22-year-old man presents with a two...\n",
      "3     ID_CZXLD  Error: Failed to parse JSON. Raw output: ```js...\n",
      "4     ID_ZJQUQ  summary: A 1-year-old boy, unvaccinated for me...\n"
     ]
    }
   ],
   "source": [
    "# ===============================================================\n",
    "#  MAIN EXECUTION SCRIPT\n",
    "# ===============================================================\n",
    "if gemini_model:\n",
    "    results = []\n",
    "    print(\"Starting prediction process with 'Moonshot' architecture...\")\n",
    "    \n",
    "    for row in test_df.itertuples():\n",
    "        print(f\"Processing row {row.Index + 1}/{len(test_df)}: Master_Index = {row.Master_Index}\")\n",
    "        \n",
    "        prompt_text = row.Prompt\n",
    "        final_response = generate_structured_response(prompt_text)\n",
    "        \n",
    "        print(f\"  > Generated Response: {repr(final_response[:70])}...\")\n",
    "        results.append({'Master_Index': row.Master_Index, 'Clinician': final_response})\n",
    "        print(\"-\" * 20)\n",
    "        \n",
    "        # A simple sleep to be kind to the API, since we are not rate-limited anymore by calls per minute\n",
    "        time.sleep(1) \n",
    "            \n",
    "    print(\"Prediction process finished.\")\n",
    "    \n",
    "    submission_df = pd.DataFrame(results)\n",
    "    submission_df.to_csv('submission.csv', index=False)\n",
    "    \n",
    "    print(\"Submission file 'submission.csv' has been created successfully!\")\n",
    "    print(submission_df.head())\n",
    "else:\n",
    "    print(\"Execution halted because Gemini model could not be initialized.\")\n"
   ]
  }
 ],
 "metadata": {
  "kaggle": {
   "accelerator": "tpu1vmV38",
   "dataSources": [
    {
     "datasetId": 7618552,
     "sourceId": 12101512,
     "sourceType": "datasetVersion"
    }
   ],
   "isGpuEnabled": false,
   "isInternetEnabled": true,
   "language": "python",
   "sourceType": "notebook"
  },
  "kernelspec": {
   "display_name": "Python 3",
   "language": "python",
   "name": "python3"
  },
  "language_info": {
   "codemirror_mode": {
    "name": "ipython",
    "version": 3
   },
   "file_extension": ".py",
   "mimetype": "text/x-python",
   "name": "python",
   "nbconvert_exporter": "python",
   "pygments_lexer": "ipython3",
   "version": "3.10.17"
  },
  "papermill": {
   "default_parameters": {},
   "duration": 504.997448,
   "end_time": "2025-06-09T19:20:46.581829",
   "environment_variables": {},
   "exception": null,
   "input_path": "__notebook__.ipynb",
   "output_path": "__notebook__.ipynb",
   "parameters": {},
   "start_time": "2025-06-09T19:12:21.584381",
   "version": "2.6.0"
  }
 },
 "nbformat": 4,
 "nbformat_minor": 5
}
